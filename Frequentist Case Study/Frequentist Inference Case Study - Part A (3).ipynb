{
 "cells": [
  {
   "cell_type": "markdown",
   "metadata": {},
   "source": [
    "# Frequentist Inference Case Study - Part A "
   ]
  },
  {
   "cell_type": "markdown",
   "metadata": {},
   "source": [
    "## 1. Learning objectives"
   ]
  },
  {
   "cell_type": "markdown",
   "metadata": {},
   "source": [
    "Welcome to part A of the Frequentist inference case study! The purpose of this case study is to help you apply the concepts associated with Frequentist inference in Python. Frequentist inference is the process of deriving conclusions about an underlying distribution via the observation of data. In particular, you'll practice writing Python code to apply the following statistical concepts: \n",
    "* the _z_-statistic\n",
    "* the _t_-statistic\n",
    "* the difference and relationship between the two\n",
    "* the Central Limit Theorem, including its assumptions and consequences\n",
    "* how to estimate the population mean and standard deviation from a sample\n",
    "* the concept of a sampling distribution of a test statistic, particularly for the mean\n",
    "* how to combine these concepts to calculate a confidence interval"
   ]
  },
  {
   "cell_type": "markdown",
   "metadata": {},
   "source": [
    "## Prerequisites"
   ]
  },
  {
   "cell_type": "markdown",
   "metadata": {},
   "source": [
    "To be able to complete this notebook, you are expected to have a basic understanding of:\n",
    "* what a random variable is (p.400 of Professor Spiegelhalter's *The Art of Statistics, hereinafter AoS*)\n",
    "* what a population, and a population distribution, are (p. 397 of *AoS*)\n",
    "* a high-level sense of what the normal distribution is (p. 394 of *AoS*)\n",
    "* what the t-statistic is (p. 275 of *AoS*)\n",
    "\n",
    "Happily, these should all be concepts with which you are reasonably familiar after having read ten chapters of Professor Spiegelhalter's book, *The Art of Statistics*.\n",
    "\n",
    "We'll try to relate the concepts in this case study back to page numbers in *The Art of Statistics* so that you can focus on the Python aspects of this case study. The second part (part B) of this case study will involve another, more real-world application of these tools. "
   ]
  },
  {
   "cell_type": "markdown",
   "metadata": {},
   "source": [
    "For this notebook, we will use data sampled from a known normal distribution. This allows us to compare our results with theoretical expectations."
   ]
  },
  {
   "cell_type": "markdown",
   "metadata": {},
   "source": [
    "## 2. An introduction to sampling from the normal distribution"
   ]
  },
  {
   "cell_type": "markdown",
   "metadata": {},
   "source": [
    "First, let's explore the ways we can generate the normal distribution. While there's a fair amount of interest in [sklearn](https://scikit-learn.org/stable/) within the machine learning community, you're likely to have heard of [scipy](https://docs.scipy.org/doc/scipy-0.15.1/reference/index.html) if you're coming from the sciences. For this assignment, you'll use [scipy.stats](https://docs.scipy.org/doc/scipy-0.15.1/reference/tutorial/stats.html) to complete your work. \n",
    "\n",
    "This assignment will require some digging around and getting your hands dirty (your learning is maximized that way)! You should have the research skills and the tenacity to do these tasks independently, but if you struggle, reach out to your immediate community and your mentor for help. "
   ]
  },
  {
   "cell_type": "code",
   "execution_count": 6,
   "metadata": {},
   "outputs": [],
   "source": [
    "from scipy.stats import norm\n",
    "from scipy.stats import t\n",
    "import numpy as np\n",
    "import pandas as pd\n",
    "from numpy.random import seed\n",
    "import matplotlib.pyplot as plt"
   ]
  },
  {
   "cell_type": "markdown",
   "metadata": {},
   "source": [
    "__Q1:__ Call up the documentation for the `norm` function imported above. (Hint: that documentation is [here](https://docs.scipy.org/doc/scipy/reference/generated/scipy.stats.norm.html)). What is the second listed method?"
   ]
  },
  {
   "cell_type": "code",
   "execution_count": null,
   "metadata": {},
   "outputs": [],
   "source": [
    "A1: The second method listed for scipy.stats.norm is pdf(x, loc=0, scale=1), \n",
    "which computes the probability density function of the normal distribution at a given point x"
   ]
  },
  {
   "cell_type": "markdown",
   "metadata": {},
   "source": [
    "__Q2:__ Use the method that generates random variates to draw five samples from the standard normal distribution. "
   ]
  },
  {
   "cell_type": "markdown",
   "metadata": {},
   "source": [
    "__A:__"
   ]
  },
  {
   "cell_type": "code",
   "execution_count": 7,
   "metadata": {},
   "outputs": [
    {
     "data": {
      "text/plain": [
       "array([-0.84800948,  1.30590636,  0.92420797,  0.6404118 , -1.05473698])"
      ]
     },
     "execution_count": 7,
     "metadata": {},
     "output_type": "execute_result"
    }
   ],
   "source": [
    "seed(47)\n",
    "# draw five samples here\n",
    "seeded_samples = norm.rvs(size=5)\n",
    "\n",
    "seeded_samples\n"
   ]
  },
  {
   "cell_type": "markdown",
   "metadata": {},
   "source": [
    "__Q3:__ What is the mean of this sample? Is it exactly equal to the value you expected? Hint: the sample was drawn from the standard normal distribution. If you want a reminder of the properties of this distribution, check out p. 85 of *AoS*. "
   ]
  },
  {
   "cell_type": "markdown",
   "metadata": {},
   "source": [
    "__A:__"
   ]
  },
  {
   "cell_type": "code",
   "execution_count": 9,
   "metadata": {},
   "outputs": [
    {
     "data": {
      "text/plain": [
       "0.19355593334131074"
      ]
     },
     "execution_count": 9,
     "metadata": {},
     "output_type": "execute_result"
    }
   ],
   "source": [
    "# Calculate and print the mean here, hint: use np.mean()\n",
    "mean_of_sample = np.mean(seeded_samples)\n",
    "\n",
    "mean_of_sample\n"
   ]
  },
  {
   "cell_type": "markdown",
   "metadata": {},
   "source": [
    "__Q4:__ What is the standard deviation of these numbers? Calculate this manually here as $\\sqrt{\\frac{\\sum_i(x_i - \\bar{x})^2}{n}}$ (This is just the definition of **standard deviation** given by Professor Spiegelhalter on p.403 of *AoS*). Hint: np.sqrt() and np.sum() will be useful here and remember that numPy supports [broadcasting](https://docs.scipy.org/doc/numpy/user/basics.broadcasting.html)."
   ]
  },
  {
   "cell_type": "markdown",
   "metadata": {},
   "source": [
    "__A:__"
   ]
  },
  {
   "cell_type": "code",
   "execution_count": 11,
   "metadata": {},
   "outputs": [
    {
     "data": {
      "text/plain": [
       "0.9606195639478641"
      ]
     },
     "execution_count": 11,
     "metadata": {},
     "output_type": "execute_result"
    }
   ],
   "source": [
    "# Calculate the standard deviation manually\n",
    "n = len(seeded_samples)  # Number of samples\n",
    "mean_value = mean_of_sample  # Mean of the sample\n",
    "\n",
    "# Standard deviation formula\n",
    "std_dev_manual = np.sqrt(np.sum((seeded_samples - mean_value) ** 2) / n)\n",
    "\n",
    "std_dev_manual"
   ]
  },
  {
   "cell_type": "markdown",
   "metadata": {},
   "source": [
    "Here we have calculated the actual standard deviation of a small data set (of size 5). But in this case, this small data set is actually a sample from our larger (infinite) population. In this case, the population is infinite because we could keep drawing our normal random variates until our computers die! \n",
    "\n",
    "In general, the sample mean we calculate will not be equal to the population mean (as we saw above). A consequence of this is that the sum of squares of the deviations from the _population_ mean will be bigger than the sum of squares of the deviations from the _sample_ mean. In other words, the sum of squares of the deviations from the _sample_ mean is too small to give an unbiased estimate of the _population_ variance. An example of this effect is given [here](https://en.wikipedia.org/wiki/Bessel%27s_correction#Source_of_bias). Scaling our estimate of the variance by the factor $n/(n-1)$ gives an unbiased estimator of the population variance. This factor is known as [Bessel's correction](https://en.wikipedia.org/wiki/Bessel%27s_correction). The consequence of this is that the $n$ in the denominator is replaced by $n-1$.\n",
    "\n",
    "You can see Bessel's correction reflected in Professor Spiegelhalter's definition of **variance** on p. 405 of *AoS*.\n",
    "\n",
    "__Q5:__ If all we had to go on was our five samples, what would be our best estimate of the population standard deviation? Use Bessel's correction ($n-1$ in the denominator), thus $\\sqrt{\\frac{\\sum_i(x_i - \\bar{x})^2}{n-1}}$."
   ]
  },
  {
   "cell_type": "markdown",
   "metadata": {},
   "source": [
    "__A:__ \n"
   ]
  },
  {
   "cell_type": "code",
   "execution_count": 14,
   "metadata": {},
   "outputs": [
    {
     "data": {
      "text/plain": [
       "1.0740053227518152"
      ]
     },
     "execution_count": 14,
     "metadata": {},
     "output_type": "execute_result"
    }
   ],
   "source": [
    "# Calculate the best estimate of the population standard deviation using Bessel's correction\n",
    "std_dev_bessel = np.sqrt(np.sum((seeded_samples - mean_value) ** 2) / (n - 1))\n",
    "\n",
    "std_dev_bessel"
   ]
  },
  {
   "cell_type": "markdown",
   "metadata": {},
   "source": [
    "__Q6:__ Now use numpy's std function to calculate the standard deviation of our random samples. Which of the above standard deviations did it return?"
   ]
  },
  {
   "cell_type": "markdown",
   "metadata": {},
   "source": [
    "__A:__"
   ]
  },
  {
   "cell_type": "code",
   "execution_count": 16,
   "metadata": {},
   "outputs": [
    {
     "data": {
      "text/plain": [
       "0.9606195639478641"
      ]
     },
     "execution_count": 16,
     "metadata": {},
     "output_type": "execute_result"
    }
   ],
   "source": [
    "# Calculate the standard deviation using numpy's std function\n",
    "std_dev_numpy = np.std(seeded_samples)\n",
    "\n",
    "std_dev_numpy\n"
   ]
  },
  {
   "cell_type": "markdown",
   "metadata": {},
   "source": [
    "__Q7:__ Consult the documentation for np.std() to see how to apply the correction for estimating the population parameter and verify this produces the expected result."
   ]
  },
  {
   "cell_type": "markdown",
   "metadata": {},
   "source": [
    "__A:__"
   ]
  },
  {
   "cell_type": "code",
   "execution_count": 18,
   "metadata": {},
   "outputs": [
    {
     "data": {
      "text/plain": [
       "1.0740053227518152"
      ]
     },
     "execution_count": 18,
     "metadata": {},
     "output_type": "execute_result"
    }
   ],
   "source": [
    "# Calculate the standard deviation with Bessel's correction using np.std()\n",
    "std_dev_numpy_bessel = np.std(seeded_samples, ddof=1)\n",
    "\n",
    "std_dev_numpy_bessel"
   ]
  },
  {
   "cell_type": "markdown",
   "metadata": {},
   "source": [
    "### Summary of section"
   ]
  },
  {
   "cell_type": "markdown",
   "metadata": {},
   "source": [
    "In this section, you've been introduced to the scipy.stats package and used it to draw a small sample from the standard normal distribution. You've calculated the average (the mean) of this sample and seen that this is not exactly equal to the expected population parameter (which we know because we're generating the random variates from a specific, known distribution). You've been introduced to two ways of calculating the standard deviation; one uses $n$ in the denominator and the other uses $n-1$ (Bessel's correction). You've also seen which of these calculations np.std() performs by default and how to get it to generate the other."
   ]
  },
  {
   "cell_type": "markdown",
   "metadata": {},
   "source": [
    "You use $n$ as the denominator if you want to calculate the standard deviation of a sequence of numbers. You use $n-1$ if you are using this sequence of numbers to estimate the population parameter. This brings us to some terminology that can be a little confusing.\n",
    "\n",
    "The population parameter is traditionally written as $\\sigma$ and the sample statistic as $s$. Rather unhelpfully, $s$ is also called the sample standard deviation (using $n-1$) whereas the standard deviation of the sample uses $n$. That's right, we have the sample standard deviation and the standard deviation of the sample and they're not the same thing!\n",
    "\n",
    "The sample standard deviation\n",
    "\\begin{equation}\n",
    "s = \\sqrt{\\frac{\\sum_i(x_i - \\bar{x})^2}{n-1}} \\approx \\sigma,\n",
    "\\end{equation}\n",
    "is our best (unbiased) estimate of the population parameter ($\\sigma$).\n",
    "\n",
    "If your dataset _is_ your entire population, you simply want to calculate the population parameter, $\\sigma$, via\n",
    "\\begin{equation}\n",
    "\\sigma = \\sqrt{\\frac{\\sum_i(x_i - \\bar{x})^2}{n}}\n",
    "\\end{equation}\n",
    "as you have complete, full knowledge of your population. In other words, your sample _is_ your population. It's worth noting that we're dealing with what Professor Spiegehalter describes on p. 92 of *AoS* as a **metaphorical population**: we have all the data, and we act as if the data-point is taken from a population at random. We can think of this population as an imaginary space of possibilities. \n",
    "\n",
    "If, however, you have sampled _from_ your population, you only have partial knowledge of the state of your population. In this case, the standard deviation of your sample is not an unbiased estimate of the standard deviation of the population, in which case you seek to estimate that population parameter via the sample standard deviation, which uses the $n-1$ denominator."
   ]
  },
  {
   "cell_type": "markdown",
   "metadata": {},
   "source": [
    "Great work so far! Now let's dive deeper."
   ]
  },
  {
   "cell_type": "markdown",
   "metadata": {},
   "source": [
    "## 3. Sampling distributions"
   ]
  },
  {
   "cell_type": "markdown",
   "metadata": {},
   "source": [
    "So far we've been dealing with the concept of taking a sample from a population to infer the population parameters. One statistic we calculated for a sample was the mean. As our samples will be expected to vary from one draw to another, so will our sample statistics. If we were to perform repeat draws of size $n$ and calculate the mean of each, we would expect to obtain a distribution of values. This is the sampling distribution of the mean. **The Central Limit Theorem (CLT)** tells us that such a distribution will approach a normal distribution as $n$ increases (the intuitions behind the CLT are covered in full on p. 236 of *AoS*). For the sampling distribution of the mean, the standard deviation of this distribution is given by\n",
    "\n",
    "\\begin{equation}\n",
    "\\sigma_{mean} = \\frac{\\sigma}{\\sqrt n}\n",
    "\\end{equation}\n",
    "\n",
    "where $\\sigma_{mean}$ is the standard deviation of the sampling distribution of the mean and $\\sigma$ is the standard deviation of the population (the population parameter)."
   ]
  },
  {
   "cell_type": "markdown",
   "metadata": {},
   "source": [
    "This is important because typically we are dealing with samples from populations and all we know about the population is what we see in the sample. From this sample, we want to make inferences about the population. We may do this, for example, by looking at the histogram of the values and by calculating the mean and standard deviation (as estimates of the population parameters), and so we are intrinsically interested in how these quantities vary across samples. \n",
    "\n",
    "In other words, now that we've taken one sample of size $n$ and made some claims about the general population, what if we were to take another sample of size $n$? Would we get the same result? Would we make the same claims about the general population? This brings us to a fundamental question: _when we make some inference about a population based on our sample, how confident can we be that we've got it 'right'?_\n",
    "\n",
    "We need to think about **estimates and confidence intervals**: those concepts covered in Chapter 7, p. 189, of *AoS*."
   ]
  },
  {
   "cell_type": "markdown",
   "metadata": {},
   "source": [
    "Now, the standard normal distribution (with its variance equal to its standard deviation of one) would not be a great illustration of a key point. Instead, let's imagine we live in a town of 50,000 people and we know the height of everyone in this town. We will have 50,000 numbers that tell us everything about our population. We'll simulate these numbers now and put ourselves in one particular town, called 'town 47', where the population mean height is 172 cm and population standard deviation is 5 cm."
   ]
  },
  {
   "cell_type": "code",
   "execution_count": 10,
   "metadata": {},
   "outputs": [],
   "source": [
    "\n",
    "seed(47)\n",
    "pop_heights = norm.rvs(172, 5, size=50000)"
   ]
  },
  {
   "cell_type": "code",
   "execution_count": 12,
   "metadata": {},
   "outputs": [
    {
     "data": {
      "image/png": "[encoded data removed]",
      "text/plain": [
       "<Figure size 640x480 with 1 Axes>"
      ]
     },
     "metadata": {},
     "output_type": "display_data"
    }
   ],
   "source": [
    "_ = plt.hist(pop_heights, bins=30)\n",
    "_ = plt.xlabel('height (cm)')\n",
    "_ = plt.ylabel('number of people')\n",
    "_ = plt.title('Distribution of heights in entire town population')\n",
    "_ = plt.axvline(172, color='r')\n",
    "_ = plt.axvline(172+5, color='r', linestyle='--')\n",
    "_ = plt.axvline(172-5, color='r', linestyle='--')\n",
    "_ = plt.axvline(172+10, color='r', linestyle='-.')\n",
    "_ = plt.axvline(172-10, color='r', linestyle='-.')"
   ]
  },
  {
   "cell_type": "markdown",
   "metadata": {},
   "source": [
    "Now, 50,000 people is rather a lot to chase after with a tape measure. If all you want to know is the average height of the townsfolk, then can you just go out and measure a sample to get a pretty good estimate of the average height?"
   ]
  },
  {
   "cell_type": "code",
   "execution_count": 14,
   "metadata": {},
   "outputs": [],
   "source": [
    "def townsfolk_sampler(n):\n",
    "    return np.random.choice(pop_heights, n)"
   ]
  },
  {
   "cell_type": "markdown",
   "metadata": {},
   "source": [
    "Let's say you go out one day and randomly sample 10 people to measure."
   ]
  },
  {
   "cell_type": "code",
   "execution_count": 16,
   "metadata": {},
   "outputs": [],
   "source": [
    "seed(47)\n",
    "daily_sample1 = townsfolk_sampler(10)"
   ]
  },
  {
   "cell_type": "code",
   "execution_count": 18,
   "metadata": {},
   "outputs": [
    {
     "data": {
      "image/png": "[encoded data removed]",
      "text/plain": [
       "<Figure size 640x480 with 1 Axes>"
      ]
     },
     "metadata": {},
     "output_type": "display_data"
    }
   ],
   "source": [
    "_ = plt.hist(daily_sample1, bins=10)\n",
    "_ = plt.xlabel('height (cm)')\n",
    "_ = plt.ylabel('number of people')\n",
    "_ = plt.title('Distribution of heights in sample size 10')"
   ]
  },
  {
   "cell_type": "markdown",
   "metadata": {},
   "source": [
    "The sample distribution doesn't resemble what we take the population distribution to be. What do we get for the mean?"
   ]
  },
  {
   "cell_type": "code",
   "execution_count": 20,
   "metadata": {},
   "outputs": [
    {
     "data": {
      "text/plain": [
       "173.47911444163503"
      ]
     },
     "execution_count": 20,
     "metadata": {},
     "output_type": "execute_result"
    }
   ],
   "source": [
    "np.mean(daily_sample1)"
   ]
  },
  {
   "cell_type": "markdown",
   "metadata": {},
   "source": [
    "And if we went out and repeated this experiment?"
   ]
  },
  {
   "cell_type": "code",
   "execution_count": 22,
   "metadata": {},
   "outputs": [],
   "source": [
    "daily_sample2 = townsfolk_sampler(10)"
   ]
  },
  {
   "cell_type": "code",
   "execution_count": 24,
   "metadata": {},
   "outputs": [
    {
     "data": {
      "text/plain": [
       "173.7317666636263"
      ]
     },
     "execution_count": 24,
     "metadata": {},
     "output_type": "execute_result"
    }
   ],
   "source": [
    "np.mean(daily_sample2)"
   ]
  },
  {
   "cell_type": "markdown",
   "metadata": {},
   "source": [
    "__Q8:__ Simulate performing this random trial every day for a year, calculating the mean of each daily sample of 10, and plot the resultant sampling distribution of the mean."
   ]
  },
  {
   "cell_type": "code",
   "execution_count": 26,
   "metadata": {},
   "outputs": [
    {
     "data": {
      "image/png": "[encoded data removed]",
      "text/plain": [
       "<Figure size 640x480 with 1 Axes>"
      ]
     },
     "metadata": {},
     "output_type": "display_data"
    }
   ],
   "source": [
    "seed(47)\n",
    "# take your samples here\n",
    "\n",
    "n_days = 365\n",
    "daily_means = [np.mean(townsfolk_sampler(10)) for _ in range(n_days)]\n",
    "\n",
    "# Plot the sampling distribution of the mean\n",
    "plt.hist(daily_means, bins=30, edgecolor='k')\n",
    "plt.xlabel('Mean Height (cm)')\n",
    "plt.ylabel('Frequency')\n",
    "plt.title('Sampling Distribution of the Mean (Sample Size = 10, n_days = 365)')\n",
    "plt.show()\n"
   ]
  },
  {
   "cell_type": "code",
   "execution_count": null,
   "metadata": {},
   "outputs": [],
   "source": [
    "A8:\n",
    "\n",
    "The histogram shows the sampling distribution of the mean based on 365 daily samples, each with a sample size of 10.\n",
    "\n",
    "Observations:\n",
    "The distribution of sample means appears roughly normal, consistent with the Central Limit Theorem.\n",
    "The variability (spread) of the sample means is much smaller than the variability of the individual data points in the population.\n",
    "The mean of this distribution should be close to the population mean of 172 cm, \n",
    "but there will be some slight variation due to random sampling."
   ]
  },
  {
   "cell_type": "code",
   "execution_count": 28,
   "metadata": {},
   "outputs": [
    {
     "data": {
      "text/plain": [
       "1.5811388300841895"
      ]
     },
     "execution_count": 28,
     "metadata": {},
     "output_type": "execute_result"
    }
   ],
   "source": [
    "# Calculate the theoretical standard deviation of the sampling distribution\n",
    "population_std = 5  # Population standard deviation\n",
    "sample_size = 10    # Sample size\n",
    "theoretical_std = population_std / np.sqrt(sample_size)\n",
    "\n",
    "theoretical_std\n"
   ]
  },
  {
   "cell_type": "markdown",
   "metadata": {},
   "source": [
    "The above is the distribution of the means of samples of size 10 taken from our population. The Central Limit Theorem tells us the expected mean of this distribution will be equal to the population mean, and standard deviation will be $\\sigma / \\sqrt n$, which, in this case, should be approximately 1.58."
   ]
  },
  {
   "cell_type": "markdown",
   "metadata": {},
   "source": [
    "__Q9:__ Verify the above results from the CLT."
   ]
  },
  {
   "cell_type": "code",
   "execution_count": 30,
   "metadata": {},
   "outputs": [
    {
     "data": {
      "text/plain": [
       "{'Population Mean (Theoretical)': 172,\n",
       " 'Observed Mean of Sampling Distribution': 171.8660049358649,\n",
       " 'Theoretical Standard Deviation': 1.5811388300841895,\n",
       " 'Observed Standard Deviation': 1.5778333114768472}"
      ]
     },
     "execution_count": 30,
     "metadata": {},
     "output_type": "execute_result"
    }
   ],
   "source": [
    "# Verify the Central Limit Theorem results using the simulated sampling distribution\n",
    "\n",
    "# Population mean\n",
    "population_mean = 172\n",
    "\n",
    "# Observed mean and standard deviation from the sampling distribution\n",
    "observed_mean = np.mean(daily_means)\n",
    "observed_std = np.std(daily_means, ddof=1)  # Bessel's correction applied\n",
    "\n",
    "# Theoretical standard deviation from the CLT\n",
    "theoretical_std = population_std / np.sqrt(sample_size)\n",
    "\n",
    "# Compare results\n",
    "{\n",
    "    \"Population Mean (Theoretical)\": population_mean,\n",
    "    \"Observed Mean of Sampling Distribution\": observed_mean,\n",
    "    \"Theoretical Standard Deviation\": theoretical_std,\n",
    "    \"Observed Standard Deviation\": observed_std,\n",
    "}\n"
   ]
  },
  {
   "cell_type": "code",
   "execution_count": null,
   "metadata": {},
   "outputs": [],
   "source": [
    "A9:\n",
    "Here are the results verifying the Central Limit Theorem:\n",
    "\n",
    "Population Mean (Theoretical): 172\n",
    "\n",
    "Observed Mean of Sampling Distribution: ~171.87\n",
    "(Close to the population mean, as expected from the CLT)\n",
    "\n",
    "Theoretical Standard Deviation: ~1.58\n",
    "(Calculated as 𝜎/ sqrt n)\n",
    "\n",
    "Observed Standard Deviation: ~1.58\n",
    "(Matches the theoretical value, confirming the CLT prediction)\n",
    "\n",
    "These results validate the Central Limit Theorem, demonstrating that the mean of the sampling distribution approaches \n",
    "the population mean, and its standard deviation matches the theoretical"
   ]
  },
  {
   "cell_type": "markdown",
   "metadata": {},
   "source": [
    "Remember, in this instance, we knew our population parameters, that the average height really is 172 cm and the standard deviation is 5 cm, and we see some of our daily estimates of the population mean were as low as around 168 and some as high as 176."
   ]
  },
  {
   "cell_type": "markdown",
   "metadata": {},
   "source": [
    "__Q10:__ Repeat the above year's worth of samples but for a sample size of 50 (perhaps you had a bigger budget for conducting surveys that year)! Would you expect your distribution of sample means to be wider (more variable) or narrower (more consistent)? Compare your resultant summary statistics to those predicted by the CLT."
   ]
  },
  {
   "cell_type": "code",
   "execution_count": 38,
   "metadata": {},
   "outputs": [
    {
     "data": {
      "image/png": "[encoded data removed]",
      "text/plain": [
       "<Figure size 640x480 with 1 Axes>"
      ]
     },
     "metadata": {},
     "output_type": "display_data"
    },
    {
     "data": {
      "text/plain": [
       "{'Population Mean (Theoretical)': 172,\n",
       " 'Observed Mean (Sample Size 50)': 171.94366080916114,\n",
       " 'Theoretical Std Dev (Sample Size 50)': 0.7071067811865475,\n",
       " 'Observed Std Dev (Sample Size 50)': 0.6745354088447525}"
      ]
     },
     "execution_count": 38,
     "metadata": {},
     "output_type": "execute_result"
    }
   ],
   "source": [
    "seed(47)\n",
    "# calculate daily means from the larger sample size here\n",
    "# Simulate sampling for 365 days with a sample size of 50\n",
    "sample_size_50 = 50\n",
    "daily_means_50 = [np.mean(townsfolk_sampler(sample_size_50)) for _ in range(n_days)]\n",
    "\n",
    "# Calculate observed mean and standard deviation for the new sampling distribution\n",
    "observed_mean_50 = np.mean(daily_means_50)\n",
    "observed_std_50 = np.std(daily_means_50, ddof=1)  # Bessel's correction applied\n",
    "\n",
    "# Theoretical standard deviation for the new sample size\n",
    "theoretical_std_50 = population_std / np.sqrt(sample_size_50)\n",
    "\n",
    "# Plot the new sampling distribution\n",
    "plt.hist(daily_means_50, bins=30, edgecolor='k')\n",
    "plt.xlabel('Mean Height (cm)')\n",
    "plt.ylabel('Frequency')\n",
    "plt.title('Sampling Distribution of the Mean (Sample Size = 50, n_days = 365)')\n",
    "plt.show()\n",
    "\n",
    "# Compare results\n",
    "{\n",
    "    \"Population Mean (Theoretical)\": population_mean,\n",
    "    \"Observed Mean (Sample Size 50)\": observed_mean_50,\n",
    "    \"Theoretical Std Dev (Sample Size 50)\": theoretical_std_50,\n",
    "    \"Observed Std Dev (Sample Size 50)\": observed_std_50,\n",
    "}"
   ]
  },
  {
   "cell_type": "code",
   "execution_count": null,
   "metadata": {},
   "outputs": [],
   "source": [
    "A10: Results with a Sample Size of 50: \n",
    "Observed Mean: ~172.08 (very close to the population mean of 172, as predicted by the CLT). \n",
    "Theoretical Standard Deviation (CLT): ~0.71 (Calculated as 𝜎/ sqrt n) \n",
    "Observed Standard Deviation: ~0.67 (slightly smaller than the theoretical value, which is expected due to random variability). \n",
    "\n",
    "Observations:\n",
    "\n",
    "1.Narrower Distribution:\n",
    "\n",
    "The histogram of the sampling distribution for 𝑛 = 50 shows that the sample means are more tightly clustered \n",
    "around the population mean compared to 𝑛=10. This occurs because larger sample sizes reduce the variability of the sample mean, \n",
    "making estimates more consistent.\n",
    "\n",
    "2.Comparison to 𝑛=10\n",
    "\n",
    "The standard deviation of the sample means for 𝑛=50 (0.67) is smaller than for 𝑛=10(1.58), \n",
    "demonstrating the inverse relationship between sample size and variability in sample means.\n",
    "\n",
    "3.Conclusion:\n",
    "\n",
    "Larger sample sizes produce more consistent (narrower) sampling distributions of the mean, as predicted by the Central Limit Theorem.\n",
    "\n",
    "This highlights the benefit of larger sample sizes for reducing uncertainty in population parameter estimates."
   ]
  },
  {
   "cell_type": "markdown",
   "metadata": {},
   "source": [
    "What we've seen so far, then, is that we can estimate population parameters from a sample from the population, and that samples have their own distributions. Furthermore, the larger the sample size, the narrower are those sampling distributions."
   ]
  },
  {
   "cell_type": "markdown",
   "metadata": {},
   "source": [
    "### Normally testing time!"
   ]
  },
  {
   "cell_type": "markdown",
   "metadata": {},
   "source": [
    "All of the above is well and good. We've been sampling from a population we know is normally distributed, we've come to understand when to use $n$ and when to use $n-1$ in the denominator to calculate the spread of a distribution, and we've  seen the Central Limit Theorem in action for a sampling distribution. All seems very well behaved in Frequentist land. But, well, why should we really care?"
   ]
  },
  {
   "cell_type": "markdown",
   "metadata": {},
   "source": [
    "Remember, we rarely (if ever) actually know our population parameters but we still have to estimate them somehow. If we want to make inferences to conclusions like \"this observation is unusual\" or \"my population mean has changed\" then we need to have some idea of what the underlying distribution is so we can calculate relevant probabilities. In frequentist inference, we use the formulae above to deduce these population parameters. Take a moment in the next part of this assignment to refresh your understanding of how these probabilities work."
   ]
  },
  {
   "cell_type": "markdown",
   "metadata": {},
   "source": [
    "Recall some basic properties of the standard normal distribution, such as that about 68% of observations are within plus or minus 1 standard deviation of the mean. Check out the precise definition of a normal distribution on p. 394 of *AoS*. \n",
    "\n",
    "__Q11:__ Using this fact, calculate the probability of observing the value 1 or less in a single observation from the standard normal distribution. Hint: you may find it helpful to sketch the standard normal distribution (the familiar bell shape) and mark the number of standard deviations from the mean on the x-axis and shade the regions of the curve that contain certain percentages of the population."
   ]
  },
  {
   "cell_type": "markdown",
   "metadata": {},
   "source": [
    "__A:__"
   ]
  },
  {
   "cell_type": "code",
   "execution_count": 53,
   "metadata": {},
   "outputs": [
    {
     "data": {
      "text/plain": [
       "0.8413447460685435"
      ]
     },
     "execution_count": 53,
     "metadata": {},
     "output_type": "execute_result"
    }
   ],
   "source": [
    "from scipy.integrate import quad\n",
    "import numpy as np\n",
    "\n",
    "# Define the PDF of the standard normal distribution\n",
    "def standard_normal_pdf(x):\n",
    "    return (1 / np.sqrt(2 * np.pi)) * np.exp(-x**2 / 2)\n",
    "\n",
    "# Integrate the PDF from -infinity to 1 to calculate the area under the curve\n",
    "area, _ = quad(standard_normal_pdf, -np.inf, 1)\n",
    "\n",
    "area\n",
    "\n"
   ]
  },
  {
   "cell_type": "code",
   "execution_count": null,
   "metadata": {},
   "outputs": [],
   "source": [
    "Using integration to calculate the area under the curve from −∞ to 1\n",
    "for the standard normal distribution, the probability is approximately 0.8413 (or 84.13%)\n",
    "Here integration explicitly calculates the area under the probability density function (PDF).\n",
    "This is a more fundamental approach to understanding the probability.\n",
    "    \n",
    "It aligns with the fact that the standard normal distribution is symmetric, with roughly 68% of observations within ±1\n",
    "standard deviation of the mean"
   ]
  },
  {
   "cell_type": "markdown",
   "metadata": {},
   "source": [
    "Calculating this probability involved calculating the area under the curve from the value of 1 and below. To put it in mathematical terms, we need to *integrate* the probability density function. We could just add together the known areas of chunks (from -Inf to 0 and then 0 to $+\\sigma$ in the example above). One way to do this is to look up tables (literally). Fortunately, scipy has this functionality built in with the cdf() function."
   ]
  },
  {
   "cell_type": "markdown",
   "metadata": {},
   "source": [
    "__Q12:__ Use the cdf() function to answer the question above again and verify you get the same answer."
   ]
  },
  {
   "cell_type": "markdown",
   "metadata": {},
   "source": [
    "__A:__"
   ]
  },
  {
   "cell_type": "code",
   "execution_count": 56,
   "metadata": {},
   "outputs": [
    {
     "data": {
      "text/plain": [
       "0.8413447460685429"
      ]
     },
     "execution_count": 56,
     "metadata": {},
     "output_type": "execute_result"
    }
   ],
   "source": [
    "from scipy.stats import norm\n",
    "\n",
    "# Calculate the probability of observing a value of 1 or less in a standard normal distribution\n",
    "probability = norm.cdf(1)\n",
    "\n",
    "probability"
   ]
  },
  {
   "cell_type": "code",
   "execution_count": null,
   "metadata": {},
   "outputs": [],
   "source": [
    "Using the cumulative distribution function cdf() function, the probability of observing a value of 1 or \n",
    "less in a standard normal distribution is again approximately 0.8413 (or 84.13%).\n",
    "\n",
    "This matches the result obtained through direct integration, verifying the correctness of both methods.\n"
   ]
  },
  {
   "cell_type": "markdown",
   "metadata": {},
   "source": [
    "__Q13:__ Using our knowledge of the population parameters for our townsfolks' heights, what is the probability of selecting one person at random and their height being 177 cm or less? Calculate this using both of the approaches given above."
   ]
  },
  {
   "cell_type": "markdown",
   "metadata": {},
   "source": [
    "__A:__"
   ]
  },
  {
   "cell_type": "code",
   "execution_count": 58,
   "metadata": {},
   "outputs": [
    {
     "data": {
      "text/plain": [
       "{'Probability using CDF': 0.8413447460685429,\n",
       " 'Probability using Integration': 0.8413447460685435}"
      ]
     },
     "execution_count": 58,
     "metadata": {},
     "output_type": "execute_result"
    }
   ],
   "source": [
    "# Define the population parameters\n",
    "population_mean = 172\n",
    "population_std = 5\n",
    "\n",
    "# Convert 177 cm to a z-score\n",
    "z_score = (177 - population_mean) / population_std\n",
    "\n",
    "# Approach 1: Using the CDF function\n",
    "probability_cdf = norm.cdf(z_score)\n",
    "\n",
    "# Approach 2: Using integration of the PDF\n",
    "def standard_normal_pdf(x):\n",
    "    return (1 / np.sqrt(2 * np.pi)) * np.exp(-x**2 / 2)\n",
    "\n",
    "# Integrate the PDF from -infinity to the z-score\n",
    "probability_integration, _ = quad(standard_normal_pdf, -np.inf, z_score)\n",
    "\n",
    "{\n",
    "    \"Probability using CDF\": probability_cdf,\n",
    "    \"Probability using Integration\": probability_integration,\n",
    "}\n"
   ]
  },
  {
   "cell_type": "code",
   "execution_count": null,
   "metadata": {},
   "outputs": [],
   "source": [
    "The probability of selecting one person at random and their height being 177 cm or less \n",
    "is approximately 0.8413 (or 84.13%) using both methods:\n",
    "Using CDF: 0.8413\n",
    "Using Integration of the PDF: 0.8413\n",
    "This confirms the equivalence of the two approaches for calculating probabilities in a normal distribution"
   ]
  },
  {
   "cell_type": "markdown",
   "metadata": {},
   "source": [
    "__Q14:__ Turning this question around — suppose we randomly pick one person and measure their height and find they are 2.00 m tall. How surprised should we be at this result, given what we know about the population distribution? In other words, how likely would it be to obtain a value at least as extreme as this? Express this as a probability. "
   ]
  },
  {
   "cell_type": "markdown",
   "metadata": {},
   "source": [
    "__A:__"
   ]
  },
  {
   "cell_type": "code",
   "execution_count": 62,
   "metadata": {},
   "outputs": [
    {
     "data": {
      "text/plain": [
       "1.0717590259723409e-08"
      ]
     },
     "execution_count": 62,
     "metadata": {},
     "output_type": "execute_result"
    }
   ],
   "source": [
    "# Height to evaluate\n",
    "height = 200  # in cm\n",
    "\n",
    "# Convert 200 cm to a z-score\n",
    "z_score_extreme = (height - population_mean) / population_std\n",
    "\n",
    "# Calculate the probability of a height at least as extreme as 200 cm\n",
    "# This is the tail probability (greater than 200 cm)\n",
    "probability_extreme = 1 - norm.cdf(z_score_extreme)\n",
    "\n",
    "probability_extreme\n"
   ]
  },
  {
   "cell_type": "code",
   "execution_count": null,
   "metadata": {},
   "outputs": [],
   "source": [
    "The probability of randomly selecting a person with a height at least as extreme as 2.00 meters (200 cm) in \n",
    "this population is approximately 1.07 × 10⁻⁸, or 0.00000107%.\n",
    "\n",
    "This incredibly small probability suggests that observing a height of 200 cm is extremely unlikely, \n",
    "given the population distribution with a mean of 172 cm and \n",
    "a standard deviation of 5 cm. It would be a very surprising result!"
   ]
  },
  {
   "cell_type": "markdown",
   "metadata": {},
   "source": [
    "What we've just done is calculate the ***p-value*** of the observation of someone 2.00m tall (review *p*-values if you need to on p. 399 of *AoS*). We could calculate this probability by virtue of knowing the population parameters. We were then able to use the known properties of the relevant normal distribution to calculate the probability of observing a value at least as extreme as our test value."
   ]
  },
  {
   "cell_type": "markdown",
   "metadata": {},
   "source": [
    "We're about to come to a pinch, though. We've said a couple of times that we rarely, if ever, know the true population parameters; we have to estimate them from our sample and we cannot even begin to estimate the standard deviation from a single observation. \n",
    "\n",
    "This is very true and usually we have sample sizes larger than one. This means we can calculate the mean of the sample as our best estimate of the population mean and the standard deviation as our best estimate of the population standard deviation. \n",
    "\n",
    "In other words, we are now coming to deal with the sampling distributions we mentioned above as we are generally concerned with the properties of the sample means we obtain. \n",
    "\n",
    "Above, we highlighted one result from the CLT, whereby the sampling distribution (of the mean) becomes narrower and narrower with the square root of the sample size. We remind ourselves that another result from the CLT is that _even if the underlying population distribution is not normal, the sampling distribution will tend to become normal with sufficiently large sample size_. (**Check out p. 199 of AoS if you need to revise this**). This is the key driver for us 'requiring' a certain sample size, for example you may frequently see a minimum sample size of 30 stated in many places. In reality this is simply a rule of thumb; if the underlying distribution is approximately normal then your sampling distribution will already be pretty normal, but if the underlying distribution is heavily skewed then you'd want to increase your sample size."
   ]
  },
  {
   "cell_type": "markdown",
   "metadata": {},
   "source": [
    "__Q15:__ Let's now start from the position of knowing nothing about the heights of people in our town.\n",
    "* Use the random seed of 47, to randomly sample the heights of 50 townsfolk\n",
    "* Estimate the population mean using np.mean\n",
    "* Estimate the population standard deviation using np.std (remember which denominator to use!)\n",
    "* Calculate the (95%) [margin of error](https://www.statisticshowto.datasciencecentral.com/probability-and-statistics/hypothesis-testing/margin-of-error/#WhatMofE) (use the exact critial z value to 2 decimal places - [look this up](https://www.statisticshowto.datasciencecentral.com/probability-and-statistics/find-critical-values/) or use norm.ppf()) Recall that the ***margin of error*** is mentioned on p. 189 of the *AoS* and discussed in depth in that chapter). \n",
    "* Calculate the 95% Confidence Interval of the mean (***confidence intervals*** are defined on p. 385 of *AoS*) \n",
    "* Does this interval include the true population mean?"
   ]
  },
  {
   "cell_type": "markdown",
   "metadata": {},
   "source": [
    "__A:__"
   ]
  },
  {
   "cell_type": "code",
   "execution_count": 64,
   "metadata": {},
   "outputs": [
    {
     "data": {
      "text/plain": [
       "{'Sample Mean': 172.7815108576788,\n",
       " 'Sample Standard Deviation': 4.195424364433547,\n",
       " 'Critical Z Value': 1.959963984540054,\n",
       " 'Margin of Error': 1.1628909342876539,\n",
       " '95% Confidence Interval': (171.61861992339115, 173.94440179196644),\n",
       " 'Includes True Population Mean': True}"
      ]
     },
     "execution_count": 64,
     "metadata": {},
     "output_type": "execute_result"
    }
   ],
   "source": [
    "seed(47)\n",
    "# take your sample now\n",
    "\n",
    "# Set the random seed for reproducibility\n",
    "np.random.seed(47)\n",
    "\n",
    "# Step 1: Randomly sample the heights of 50 townsfolk\n",
    "sample_size = 50\n",
    "sample_heights = townsfolk_sampler(sample_size)\n",
    "\n",
    "# Step 2: Estimate the population mean and standard deviation\n",
    "sample_mean = np.mean(sample_heights)\n",
    "sample_std = np.std(sample_heights, ddof=1)  # Use Bessel's correction\n",
    "\n",
    "# Step 3: Calculate the 95% margin of error\n",
    "critical_z = norm.ppf(0.975)  # 95% confidence level\n",
    "margin_of_error = critical_z * (sample_std / np.sqrt(sample_size))\n",
    "\n",
    "# Step 4: Calculate the 95% Confidence Interval (CI)\n",
    "confidence_interval = (sample_mean - margin_of_error, sample_mean + margin_of_error)\n",
    "\n",
    "# Check if the interval includes the true population mean\n",
    "true_population_mean = 172\n",
    "includes_population_mean = true_population_mean >= confidence_interval[0] and true_population_mean <= confidence_interval[1]\n",
    "\n",
    "{\n",
    "    \"Sample Mean\": sample_mean,\n",
    "    \"Sample Standard Deviation\": sample_std,\n",
    "    \"Critical Z Value\": critical_z,\n",
    "    \"Margin of Error\": margin_of_error,\n",
    "    \"95% Confidence Interval\": confidence_interval,\n",
    "    \"Includes True Population Mean\": includes_population_mean,\n",
    "}\n",
    "\n",
    "\n"
   ]
  },
  {
   "cell_type": "code",
   "execution_count": null,
   "metadata": {},
   "outputs": [],
   "source": [
    "Here are the results based on the random sample of 50 townsfolk:\n",
    "\n",
    "Sample Mean: 172.78\n",
    "(This is our estimate of the population mean.)\n",
    "\n",
    "Sample Standard Deviation: 4.20\n",
    "(This is our estimate of the population standard deviation, using Bessel's correction.)\n",
    "\n",
    "Critical Z Value: 1.96\n",
    "(The z-score corresponding to a 95% confidence level.)\n",
    "\n",
    "Margin of Error: 1.16\n",
    "(This defines the range of uncertainty around the sample mean.)\n",
    "\n",
    "95% Confidence Interval: \n",
    "(171.62,173.94)\n",
    "(The range within which we are 95% confident the true population mean lies.)\n",
    "\n",
    "Includes True Population Mean: Yes\n",
    "(The interval does include the true population mean of 172.00.)"
   ]
  },
  {
   "cell_type": "code",
   "execution_count": null,
   "metadata": {},
   "outputs": [],
   "source": [
    "\n",
    "Yes, the 95% confidence interval (171.62,173.94) does include the true population mean of 172.00, \n",
    "as expected for a well-behaved random sample.\n",
    "This indicates that our sample-based estimate is consistent with the true population parameter,\n",
    "as expected within the given confidence level.\n",
    "\n",
    "\n",
    "\n",
    "\n",
    " \n"
   ]
  },
  {
   "cell_type": "code",
   "execution_count": null,
   "metadata": {},
   "outputs": [],
   "source": []
  },
  {
   "cell_type": "markdown",
   "metadata": {},
   "source": [
    "__Q16:__ Above, we calculated the confidence interval using the critical z value. What is the problem with this? What requirement, or requirements, are we (strictly) failing?"
   ]
  },
  {
   "cell_type": "markdown",
   "metadata": {},
   "source": [
    "__A:__"
   ]
  },
  {
   "cell_type": "code",
   "execution_count": null,
   "metadata": {},
   "outputs": [],
   "source": [
    "Using the critical z-value to calculate the confidence interval assumes specific conditions that may not always hold in practice. \n",
    "\n",
    "Assumptions for Using the Z-Value:\n",
    "\n",
    "1.Population Standard Deviation is Known: The critical z-value is valid when the population standard deviation (σ) is known.\n",
    "In our case, we do not know 𝜎, we estimated it from the sample. \n",
    "\n",
    "2.Large Sample Size:\n",
    "\n",
    "The z-value approximation assumes that the sample size is large enough (𝑛≥30) for the sample standard deviation (𝑠) \n",
    "to be a good proxy for 𝜎. Although our sample size of 50 meets this criterion, if the sample size were smaller, \n",
    "the z-value would not be appropriate.\n",
    "    \n",
    "3. Normality of the Sampling Distribution:\n",
    "\n",
    "Using the z-value assumes the sampling distribution of the mean is normal.\n",
    "The Central Limit Theorem justifies this for large sample sizes, but for small sample sizes, \n",
    "the underlying population distribution plays a significant role."
   ]
  },
  {
   "cell_type": "markdown",
   "metadata": {},
   "source": [
    "__Q17:__ Calculate the 95% confidence interval for the mean using the _t_ distribution. Is this wider or narrower than that based on the normal distribution above? If you're unsure, you may find this [resource](https://www.statisticshowto.datasciencecentral.com/probability-and-statistics/confidence-interval/) useful. For calculating the critical value, remember how you could calculate this for the normal distribution using norm.ppf()."
   ]
  },
  {
   "cell_type": "markdown",
   "metadata": {},
   "source": [
    "__A:__"
   ]
  },
  {
   "cell_type": "code",
   "execution_count": 68,
   "metadata": {},
   "outputs": [
    {
     "data": {
      "text/plain": [
       "{'Critical T Value': 2.0095752371292392,\n",
       " 'Margin of Error (T-Distribution)': 1.192326411842185,\n",
       " '95% Confidence Interval (T-Distribution)': (171.58918444583662,\n",
       "  173.97383726952097),\n",
       " 'Wider or Narrower?': 'Wider'}"
      ]
     },
     "execution_count": 68,
     "metadata": {},
     "output_type": "execute_result"
    }
   ],
   "source": [
    "from scipy.stats import t\n",
    "\n",
    "# Degrees of freedom\n",
    "degrees_of_freedom = sample_size - 1\n",
    "\n",
    "# Critical t-value for 95% confidence\n",
    "critical_t = t.ppf(0.975, degrees_of_freedom)\n",
    "\n",
    "# Margin of error using the t-distribution\n",
    "margin_of_error_t = critical_t * (sample_std / np.sqrt(sample_size))\n",
    "\n",
    "# 95% Confidence Interval using the t-distribution\n",
    "confidence_interval_t = (sample_mean - margin_of_error_t, sample_mean + margin_of_error_t)\n",
    "\n",
    "{\n",
    "    \"Critical T Value\": critical_t,\n",
    "    \"Margin of Error (T-Distribution)\": margin_of_error_t,\n",
    "    \"95% Confidence Interval (T-Distribution)\": confidence_interval_t,\n",
    "    \"Wider or Narrower?\": \"Wider\" if margin_of_error_t > margin_of_error else \"Narrower\",\n",
    "}\n"
   ]
  },
  {
   "cell_type": "code",
   "execution_count": null,
   "metadata": {},
   "outputs": [],
   "source": [
    "Here are the results using the t-distribution for calculating the 95% confidence interval:\n",
    "\n",
    "Critical T-Value: 2.01 \n",
    "(Slightly larger than the critical z-value of 1.96, reflecting the added uncertainty.)\n",
    "\n",
    "Margin of Error (T-Distribution): 1.19\n",
    "(Larger than the margin of error using the z-distribution, which was 1.16.)\n",
    "\n",
    "95% Confidence Interval (T-Distribution): (171.59,173.97)\n",
    "(Slightly wider than the confidence interval calculated with the z-distribution (171.62,173.94).)\n",
    "\n",
    "Comparison: The confidence interval is wider with the t-distribution because \n",
    "it accounts for the additional uncertainty from estimating the standard deviation from the sample.\n",
    "This is particularly relevant for smaller sample sizes."
   ]
  },
  {
   "cell_type": "code",
   "execution_count": null,
   "metadata": {},
   "outputs": [],
   "source": []
  },
  {
   "cell_type": "markdown",
   "metadata": {},
   "source": [
    "This is slightly wider than the previous confidence interval. This reflects the greater uncertainty given that we are estimating population parameters from a sample."
   ]
  },
  {
   "cell_type": "markdown",
   "metadata": {},
   "source": [
    "## 4. Learning outcomes"
   ]
  },
  {
   "cell_type": "markdown",
   "metadata": {},
   "source": [
    "Having completed this project notebook, you now have hands-on experience:\n",
    "* sampling and calculating probabilities from a normal distribution\n",
    "* identifying the correct way to estimate the standard deviation of a population (the population parameter) from a sample\n",
    "* with sampling distribution and now know how the Central Limit Theorem applies\n",
    "* with how to calculate critical values and confidence intervals"
   ]
  },
  {
   "cell_type": "code",
   "execution_count": null,
   "metadata": {},
   "outputs": [],
   "source": [
    "1. Sampling and Calculating Probabilities from a Normal Distribution\n",
    "You generated random samples from a population with a known normal distribution.\n",
    "You calculated probabilities for observations using:\n",
    "The cumulative distribution function (CDF).\n",
    "Direct integration of the probability density function (PDF).\n",
    "\n",
    "    \n",
    "2. Estimating Population Standard Deviation from a Sample\n",
    "You learned the difference between the population standard deviation (σ) and the sample standard deviation (𝑠).\n",
    "You applied Bessel's correction (𝑛−1 in the denominator) to obtain an unbiased estimate of the population standard deviation.\n",
    "\n",
    "    \n",
    "3. Understanding the Sampling Distribution and the Central Limit Theorem (CLT)\n",
    "You observed that the sampling distribution of the sample mean becomes approximately normal, even if the population distribution is not normal.\n",
    "You learned that:\n",
    "Larger sample sizes lead to narrower sampling distributions.\n",
    "The standard deviation of the sampling distribution is calculated as 𝜎/𝑛.\n",
    "\n",
    "4. Calculating Critical Values and Confidence Intervals\n",
    "You calculated critical z-values and critical t-values for confidence intervals:\n",
    "Z-distribution: Used when the population standard deviation is known.\n",
    "T-distribution: Used when the population standard deviation is unknown.\n",
    "You constructed and interpreted 95% confidence intervals for the population mean.\n",
    "You explored how confidence intervals change with sample size and the choice of distribution (z vs. t).\n",
    "\n",
    "    "
   ]
  }
 ],
 "metadata": {
  "kernelspec": {
   "display_name": "Python 3 (ipykernel)",
   "language": "python",
   "name": "python3"
  },
  "language_info": {
   "codemirror_mode": {
    "name": "ipython",
    "version": 3
   },
   "file_extension": ".py",
   "mimetype": "text/x-python",
   "name": "python",
   "nbconvert_exporter": "python",
   "pygments_lexer": "ipython3",
   "version": "3.12.7"
  }
 },
 "nbformat": 4,
 "nbformat_minor": 4
}

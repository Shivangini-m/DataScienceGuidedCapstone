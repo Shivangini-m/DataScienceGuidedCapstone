{
 "cells": [
  {
   "cell_type": "markdown",
   "metadata": {},
   "source": [
    "# Frequentist Inference Case Study - Part B"
   ]
  },
  {
   "cell_type": "markdown",
   "metadata": {},
   "source": [
    "## Learning objectives"
   ]
  },
  {
   "cell_type": "markdown",
   "metadata": {},
   "source": [
    "Welcome to Part B of the Frequentist inference case study! The purpose of this case study is to help you apply the concepts associated with Frequentist inference in Python. In particular, you'll practice writing Python code to apply the following statistical concepts: \n",
    "* the _z_-statistic\n",
    "* the _t_-statistic\n",
    "* the difference and relationship between the two\n",
    "* the Central Limit Theorem, including its assumptions and consequences\n",
    "* how to estimate the population mean and standard deviation from a sample\n",
    "* the concept of a sampling distribution of a test statistic, particularly for the mean\n",
    "* how to combine these concepts to calculate a confidence interval"
   ]
  },
  {
   "cell_type": "markdown",
   "metadata": {},
   "source": [
    "In the previous notebook, we used only data from a known normal distribution. **You'll now tackle real data, rather than simulated data, and answer some relevant real-world business problems using the data.**"
   ]
  },
  {
   "cell_type": "markdown",
   "metadata": {},
   "source": [
    "## Hospital medical charges"
   ]
  },
  {
   "cell_type": "markdown",
   "metadata": {},
   "source": [
    "Imagine that a hospital has hired you as their data scientist. An administrator is working on the hospital's business operations plan and needs you to help them answer some business questions. \n",
    "\n",
    "In this assignment notebook, you're going to use frequentist statistical inference on a data sample to answer the questions:\n",
    "* has the hospital's revenue stream fallen below a key threshold?\n",
    "* are patients with insurance really charged different amounts than those without?\n",
    "\n",
    "Answering that last question with a frequentist approach makes some assumptions, and requires some knowledge, about the two groups."
   ]
  },
  {
   "cell_type": "markdown",
   "metadata": {},
   "source": [
    "We are going to use some data on medical charges obtained from [Kaggle](https://www.kaggle.com/easonlai/sample-insurance-claim-prediction-dataset). \n",
    "\n",
    "For the purposes of this exercise, assume the observations are the result of random sampling from our single hospital. Recall that in the previous assignment, we introduced the Central Limit Theorem (CLT), and its consequence that the distributions of sample statistics approach a normal distribution as $n$ increases. The amazing thing about this is that it applies to the sampling distributions of statistics that have been calculated from even highly non-normal distributions of data! Recall, also, that hypothesis testing is very much based on making inferences about such sample statistics. You're going to rely heavily on the CLT to apply frequentist (parametric) tests to answer the questions in this notebook."
   ]
  },
  {
   "cell_type": "code",
   "execution_count": 18,
   "metadata": {},
   "outputs": [],
   "source": [
    "import pandas as pd\n",
    "import numpy as np\n",
    "import matplotlib.pyplot as plt\n",
    "from scipy.stats import t\n",
    "from numpy.random import seed\n",
    "#medical = pd.read_csv('data/insurance2.csv')\n",
    "medical = pd.read_csv('/Users/shivanginimarjiwe/Desktop/repo/DataScienceGuidedCapstone/Frequentist Case Study/insurance2.csv')\n",
    "\n"
   ]
  },
  {
   "cell_type": "code",
   "execution_count": 20,
   "metadata": {},
   "outputs": [
    {
     "data": {
      "text/plain": [
       "(1338, 8)"
      ]
     },
     "execution_count": 20,
     "metadata": {},
     "output_type": "execute_result"
    }
   ],
   "source": [
    "medical.shape"
   ]
  },
  {
   "cell_type": "code",
   "execution_count": 22,
   "metadata": {},
   "outputs": [
    {
     "data": {
      "text/html": [
       "<div>\n",
       "<style scoped>\n",
       "    .dataframe tbody tr th:only-of-type {\n",
       "        vertical-align: middle;\n",
       "    }\n",
       "\n",
       "    .dataframe tbody tr th {\n",
       "        vertical-align: top;\n",
       "    }\n",
       "\n",
       "    .dataframe thead th {\n",
       "        text-align: right;\n",
       "    }\n",
       "</style>\n",
       "<table border=\"1\" class=\"dataframe\">\n",
       "  <thead>\n",
       "    <tr style=\"text-align: right;\">\n",
       "      <th></th>\n",
       "      <th>age</th>\n",
       "      <th>sex</th>\n",
       "      <th>bmi</th>\n",
       "      <th>children</th>\n",
       "      <th>smoker</th>\n",
       "      <th>region</th>\n",
       "      <th>charges</th>\n",
       "      <th>insuranceclaim</th>\n",
       "    </tr>\n",
       "  </thead>\n",
       "  <tbody>\n",
       "    <tr>\n",
       "      <th>0</th>\n",
       "      <td>19</td>\n",
       "      <td>0</td>\n",
       "      <td>27.900</td>\n",
       "      <td>0</td>\n",
       "      <td>1</td>\n",
       "      <td>3</td>\n",
       "      <td>16884.92400</td>\n",
       "      <td>1</td>\n",
       "    </tr>\n",
       "    <tr>\n",
       "      <th>1</th>\n",
       "      <td>18</td>\n",
       "      <td>1</td>\n",
       "      <td>33.770</td>\n",
       "      <td>1</td>\n",
       "      <td>0</td>\n",
       "      <td>2</td>\n",
       "      <td>1725.55230</td>\n",
       "      <td>1</td>\n",
       "    </tr>\n",
       "    <tr>\n",
       "      <th>2</th>\n",
       "      <td>28</td>\n",
       "      <td>1</td>\n",
       "      <td>33.000</td>\n",
       "      <td>3</td>\n",
       "      <td>0</td>\n",
       "      <td>2</td>\n",
       "      <td>4449.46200</td>\n",
       "      <td>0</td>\n",
       "    </tr>\n",
       "    <tr>\n",
       "      <th>3</th>\n",
       "      <td>33</td>\n",
       "      <td>1</td>\n",
       "      <td>22.705</td>\n",
       "      <td>0</td>\n",
       "      <td>0</td>\n",
       "      <td>1</td>\n",
       "      <td>21984.47061</td>\n",
       "      <td>0</td>\n",
       "    </tr>\n",
       "    <tr>\n",
       "      <th>4</th>\n",
       "      <td>32</td>\n",
       "      <td>1</td>\n",
       "      <td>28.880</td>\n",
       "      <td>0</td>\n",
       "      <td>0</td>\n",
       "      <td>1</td>\n",
       "      <td>3866.85520</td>\n",
       "      <td>1</td>\n",
       "    </tr>\n",
       "  </tbody>\n",
       "</table>\n",
       "</div>"
      ],
      "text/plain": [
       "   age  sex     bmi  children  smoker  region      charges  insuranceclaim\n",
       "0   19    0  27.900         0       1       3  16884.92400               1\n",
       "1   18    1  33.770         1       0       2   1725.55230               1\n",
       "2   28    1  33.000         3       0       2   4449.46200               0\n",
       "3   33    1  22.705         0       0       1  21984.47061               0\n",
       "4   32    1  28.880         0       0       1   3866.85520               1"
      ]
     },
     "execution_count": 22,
     "metadata": {},
     "output_type": "execute_result"
    }
   ],
   "source": [
    "medical.head()"
   ]
  },
  {
   "cell_type": "markdown",
   "metadata": {},
   "source": [
    "__Q1:__ Plot the histogram of charges and calculate the mean and standard deviation. Comment on the appropriateness of these statistics for the data."
   ]
  },
  {
   "cell_type": "markdown",
   "metadata": {},
   "source": [
    "__A:__"
   ]
  },
  {
   "cell_type": "code",
   "execution_count": 24,
   "metadata": {},
   "outputs": [
    {
     "data": {
      "image/png": "[encoded data removed]",
      "text/plain": [
       "<Figure size 1000x600 with 1 Axes>"
      ]
     },
     "metadata": {},
     "output_type": "display_data"
    },
    {
     "data": {
      "text/plain": [
       "(13270.422265141257, 12110.011236693996)"
      ]
     },
     "execution_count": 24,
     "metadata": {},
     "output_type": "execute_result"
    }
   ],
   "source": [
    "# Plotting the histogram of charges\n",
    "import matplotlib.pyplot as plt\n",
    "\n",
    "# Histogram\n",
    "plt.figure(figsize=(10, 6))\n",
    "plt.hist(medical['charges'], bins=30, edgecolor='black', alpha=0.7)\n",
    "plt.title('Distribution of Medical Charges')\n",
    "plt.xlabel('Charges')\n",
    "plt.ylabel('Frequency')\n",
    "plt.grid(axis='y', linestyle='--', alpha=0.7)\n",
    "plt.show()\n",
    "\n",
    "# Calculating mean and standard deviation\n",
    "charges_mean = medical['charges'].mean()\n",
    "charges_std = medical['charges'].std()\n",
    "\n",
    "charges_mean, charges_std\n"
   ]
  },
  {
   "cell_type": "code",
   "execution_count": null,
   "metadata": {},
   "outputs": [],
   "source": [
    "\n",
    "Skewness in Data:\n",
    "The histogram is right-skewed (positively skewed), meaning most patients have lower charges, \n",
    "while a few patients have very high charges. This is common in real-world cost data.\n",
    "\n",
    "Concentration of Charges:\n",
    "The highest concentration of charges is in the lower range (e.g., 0 to ~15,000).\n",
    "There are progressively fewer patients as charges increase, with very few having charges exceeding $40,000 or more.\n",
    "\n",
    "Range of Data:\n",
    "Charges range from very low (near $0) to over $60,000, indicating high variability in the dataset.\n",
    "\n",
    "Outliers:\n",
    "The long tail on the right suggests the presence of outliers—patients with extremely high charges.\n",
    "    \n",
    "Mean and Standard Deviation:\n",
    "The mean ($13,270) is heavily influenced by the outliers, making it less representative of the typical charges in this dataset.\n",
    "The large standard deviation ($12,110) reflects the wide variability in charges.\n",
    "        \n",
    "\n"
   ]
  },
  {
   "cell_type": "markdown",
   "metadata": {},
   "source": [
    "__Q2:__ The administrator is concerned that the actual average charge has fallen below 12,000, threatening the hospital's operational model. On the assumption that these data represent a random sample of charges, how would you justify that these data allow you to answer that question? And what would be the most appropriate frequentist test, of the ones discussed so far, to apply?"
   ]
  },
  {
   "cell_type": "markdown",
   "metadata": {},
   "source": [
    "__A:__"
   ]
  },
  {
   "cell_type": "code",
   "execution_count": null,
   "metadata": {},
   "outputs": [],
   "source": [
    "Justification for Using These Data\n",
    "\n",
    "Random Sampling:\n",
    "The data are assumed to be a random sample of charges from the hospital, which satisfies the key requirement for statistical inference.\n",
    "Random sampling ensures that the sample is representative of the hospital's population of charges, \n",
    "allowing us to generalize results to the broader dataset.\n",
    "\n",
    "Central Limit Theorem (CLT):\n",
    "The sample size (n=1338) is large, so according to the CLT, the sampling distribution of the sample mean will be approximately normal, \n",
    "regardless of the shape of the population distribution.This normality allows us to use parametric tests like the t-test \n",
    "to make inferences about the population mean.\n",
    "    \n",
    "Concern About the Average:\n",
    "The administrator's concern is about the population mean of charges, which we can estimate and test using the\n",
    "sample mean and standard deviation\n",
    "\n",
    "\n",
    "Appropriate Frequentist Test:\n",
    "The appropriate frequentist test to apply is the one-sample t-test because we are comparing the sample mean against \n",
    "a fixed threshold ($12,000).The population standard deviation is unknown (we estimate it using the sample standard deviation).\n",
    "The test will help determine if the observed average is significantly different from $12,000.\n",
    "\n",
    "    \n",
    "Hypotheses for the Test\n",
    "\n",
    "Null Hypothesis (𝐻0):\n",
    "The actual average charge is $12,000 or higher\n",
    "𝐻0:𝜇≥12,000\n",
    "\n",
    " \n",
    "Alternative Hypothesis (𝐻𝑎):\n",
    "The actual average charge is less than $12,000\n",
    "𝐻𝑎:μ<12,000\n",
    "    "
   ]
  },
  {
   "cell_type": "code",
   "execution_count": 27,
   "metadata": {},
   "outputs": [
    {
     "data": {
      "text/plain": [
       "(3.8373452696017134, 0.9999349124837151)"
      ]
     },
     "execution_count": 27,
     "metadata": {},
     "output_type": "execute_result"
    }
   ],
   "source": [
    "from scipy.stats import t\n",
    "\n",
    "# Given data\n",
    "mu_0 = 12000  # Hypothesized population mean\n",
    "n = 1338  # Sample size\n",
    "sample_mean = 13270.42  # Sample mean (from earlier calculation)\n",
    "sample_std = 12110.01  # Sample standard deviation (from earlier calculation)\n",
    "\n",
    "# Calculate the t-statistic\n",
    "t_statistic = (sample_mean - mu_0) / (sample_std / np.sqrt(n))\n",
    "\n",
    "# Calculate the p-value for a one-tailed t-test\n",
    "p_value = t.cdf(t_statistic, df=n-1)  # Degrees of freedom = n - 1\n",
    "\n",
    "t_statistic, p_value\n"
   ]
  },
  {
   "cell_type": "code",
   "execution_count": null,
   "metadata": {},
   "outputs": [],
   "source": [
    "Results:\n",
    "T-Statistic: 3.84\n",
    "P-Value: 0.9999 (approximately)\n",
    "\n",
    "\n",
    "Comparison with Significance Level (α=0.05):\n",
    "The p-value is much greater than the typical significance level of 0.05.\n",
    "This means there is no evidence to reject the null hypothesis.\n",
    "\n",
    "Conclusion:\n",
    "The data does not support the concern that the average charge has fallen below $12,000.\n",
    "In fact, the positive t-statistic suggests that the sample mean ($13,270.42) is significantly higher than\n",
    "the hypothesized mean of $12,000.\n"
   ]
  },
  {
   "cell_type": "markdown",
   "metadata": {},
   "source": [
    "__Q3:__ Given the nature of the administrator's concern, what is the appropriate confidence interval in this case? A ***one-sided*** or ***two-sided*** interval? (Refresh your understanding of this concept on p. 399 of the *AoS*). Calculate the critical value and the relevant 95% confidence interval for the mean, and comment on whether the administrator should be concerned."
   ]
  },
  {
   "cell_type": "markdown",
   "metadata": {},
   "source": [
    "__A:__"
   ]
  },
  {
   "cell_type": "code",
   "execution_count": 29,
   "metadata": {},
   "outputs": [
    {
     "data": {
      "text/plain": [
       "(1.6459941145571317, 13815.35502567537)"
      ]
     },
     "execution_count": 29,
     "metadata": {},
     "output_type": "execute_result"
    }
   ],
   "source": [
    "# Calculate the critical value for a one-sided 95% confidence interval\n",
    "alpha = 0.05  # Significance level\n",
    "df = n - 1  # Degrees of freedom\n",
    "critical_value = t.ppf(1 - alpha, df)  # One-sided critical value\n",
    "\n",
    "# Calculate the margin of error\n",
    "margin_of_error = critical_value * (sample_std / np.sqrt(n))\n",
    "\n",
    "# Calculate the one-sided confidence interval (lower bound not relevant in this case)\n",
    "confidence_interval_upper = sample_mean + margin_of_error\n",
    "\n",
    "critical_value, confidence_interval_upper\n"
   ]
  },
  {
   "cell_type": "code",
   "execution_count": null,
   "metadata": {},
   "outputs": [],
   "source": [
    "Results:\n",
    "Critical Value (One-Sided 95% Confidence Interval): 1.65\n",
    "Upper Bound of 95% Confidence Interval: $13,815.36\n",
    "\n",
    "One-Sided Interval:\n",
    "Since the administrator is specifically concerned about the average charge falling below $12,000, \n",
    "a one-sided confidence interval is appropriate. This focuses on the upper bound of the interval, \n",
    "which indicates how high the mean might reasonably be.\n",
    "\n",
    "Conclusion:\n",
    "The calculated upper bound ($13,815.36) is well above $12,000.\n",
    "This suggests that even with 95% confidence, the average charge is unlikely to fall below $12,000. \n",
    "The administrator does not need to be concerned based on this analysis.\n",
    "\n"
   ]
  },
  {
   "cell_type": "code",
   "execution_count": 34,
   "metadata": {},
   "outputs": [
    {
     "data": {
      "text/plain": [
       "(1.961739888600845, (12620.951835376138, 13919.888164623862))"
      ]
     },
     "execution_count": 34,
     "metadata": {},
     "output_type": "execute_result"
    }
   ],
   "source": [
    "# Calculate the critical value for a two-sided 95% confidence interval\n",
    "critical_value_two_sided = t.ppf(1 - alpha / 2, df)  # Two-sided critical value\n",
    "\n",
    "# Calculate the margin of error for the two-sided interval\n",
    "margin_of_error_two_sided = critical_value_two_sided * (sample_std / np.sqrt(n))\n",
    "\n",
    "# Calculate the two-sided confidence interval\n",
    "confidence_interval_lower = sample_mean - margin_of_error_two_sided\n",
    "confidence_interval_upper = sample_mean + margin_of_error_two_sided\n",
    "\n",
    "critical_value_two_sided, (confidence_interval_lower, confidence_interval_upper)\n"
   ]
  },
  {
   "cell_type": "code",
   "execution_count": null,
   "metadata": {},
   "outputs": [],
   "source": [
    "Two-Sided Confidence Interval:\n",
    "Critical Value (Two-Sided 95%): 1.96\n",
    "95% Confidence Interval: ($12,620.95, $13,919.89)\n",
    "\n",
    "Two-Sided Interval:\n",
    "A two-sided confidence interval considers uncertainty in both directions (above and below the sample mean). \n",
    "This interval shows that the true population mean is expected to fall between $12,620.95 and $13,919.89 with 95% confidence.\n",
    "\n",
    "\n",
    "Relevance to the Administrator's Concern:\n",
    "The lower bound ($12,620.95) of this interval is above the critical threshold of $12,000.\n",
    "This reinforces the conclusion that the administrator does not need to worry about the average charge falling below $12,000\n"
   ]
  },
  {
   "cell_type": "code",
   "execution_count": null,
   "metadata": {},
   "outputs": [],
   "source": []
  },
  {
   "cell_type": "markdown",
   "metadata": {},
   "source": [
    "The administrator then wants to know whether people with insurance really are charged a different amount to those without.\n",
    "\n",
    "__Q4:__ State the null and alternative hypothesis here. Use the _t_-test for the difference between means, where the pooled standard deviation of the two groups is given by:\n",
    "\\begin{equation}\n",
    "s_p = \\sqrt{\\frac{(n_0 - 1)s^2_0 + (n_1 - 1)s^2_1}{n_0 + n_1 - 2}}\n",
    "\\end{equation}\n",
    "\n",
    "and the *t*-test statistic is then given by:\n",
    "\n",
    "\\begin{equation}\n",
    "t = \\frac{\\bar{x}_0 - \\bar{x}_1}{s_p \\sqrt{1/n_0 + 1/n_1}}.\n",
    "\\end{equation}\n",
    "\n",
    "(If you need some reminding of the general definition of ***t-statistic***, check out the definition on p. 404 of *AoS*). \n",
    "\n",
    "What assumption about the variances of the two groups are we making here?"
   ]
  },
  {
   "cell_type": "markdown",
   "metadata": {},
   "source": [
    "__A:__"
   ]
  },
  {
   "cell_type": "code",
   "execution_count": null,
   "metadata": {},
   "outputs": [],
   "source": [
    "Hypotheses\n",
    "For this analysis, we are testing whether there is a significant difference in the mean charges between insured and uninsured patients.\n",
    "\n",
    "Null Hypothesis (𝐻0):\n",
    "There is no difference in the mean charges for insured and uninsured patients:\n",
    "𝐻0 : 𝜇insured = 𝜇uninsured\n",
    "\n",
    " \n",
    "Alternative Hypothesis (𝐻𝑎):\n",
    "There is a difference in the mean charges for insured and uninsured patients:\n",
    "𝐻𝑎 : 𝜇insured ≠ 𝜇uninsured\n",
    "\n",
    " \n",
    "Pooled Standard Deviation : The pooled standard deviation (𝑠𝑝) combines the standard deviations of the two groups.\n",
    "Where:\n",
    "   𝑛0,𝑛1: Sample sizes of insured and uninsured groups.\n",
    "   𝑠0,𝑠1: Standard deviations of insured and uninsured groups.\n",
    "\n",
    "\n",
    "T-Test Statistic\n",
    "The t-test statistic for the difference between means is calculated as\n",
    "Where:\n",
    "𝑥ˉ0,𝑥ˉ1: Sample means of insured and uninsured groups.\n",
    "𝑠𝑝: Pooled standard deviation.\n",
    "𝑛0,𝑛1: Sample sizes of the two groups.\n",
    "\n",
    "\n",
    "\n",
    "Assumption About Variances\n",
    "We assume that the two groups have equal variances:\n",
    "The variability in charges for insured and uninsured groups is assumed to be similar.\n",
    "This assumption is critical for using the pooled standard deviation formula.\n",
    "       "
   ]
  },
  {
   "cell_type": "code",
   "execution_count": 58,
   "metadata": {},
   "outputs": [
    {
     "data": {
      "text/plain": [
       "{'t_statistic': 11.893299030876715,\n",
       " 'p_value': 0.0,\n",
       " 'pooled_std': 11520.034268775256,\n",
       " 'mean_insured': 16423.928276537677,\n",
       " 'mean_uninsured': 8821.421892306305}"
      ]
     },
     "execution_count": 58,
     "metadata": {},
     "output_type": "execute_result"
    }
   ],
   "source": [
    "import pandas as pd\n",
    "import numpy as np\n",
    "from scipy.stats import t\n",
    "\n",
    "\n",
    "\n",
    "# Let's first check if the necessary columns exist\n",
    "columns_needed = ['charges', 'insuranceclaim']\n",
    "\n",
    "if set(columns_needed).issubset(medical.columns):\n",
    "    \n",
    "    # Split the data into two groups: insured and uninsured\n",
    "    insured = medical[medical['insuranceclaim'] == 1]['charges']\n",
    "    uninsured = medical[medical['insuranceclaim'] == 0]['charges']\n",
    "\n",
    "    # Calculate sample statistics\n",
    "    n1, n2 = len(insured), len(uninsured)\n",
    "    mean1, mean2 = np.mean(insured), np.mean(uninsured)\n",
    "    std1, std2 = np.std(insured, ddof=1), np.std(uninsured, ddof=1)\n",
    "\n",
    "    # Calculate pooled standard deviation\n",
    "    pooled_std = np.sqrt(((n1 - 1) * std1**2 + (n2 - 1) * std2**2) / (n1 + n2 - 2))\n",
    "\n",
    "    # Calculate the t-statistic\n",
    "    t_statistic = (mean1 - mean2) / (pooled_std * np.sqrt(1/n1 + 1/n2))\n",
    "\n",
    "    # Degrees of freedom\n",
    "    df = n1 + n2 - 2\n",
    "\n",
    "    # Calculate the two-tailed p-value\n",
    "    p_value = 2 * (1 - t.cdf(abs(t_statistic), df))\n",
    "\n",
    "    (t_statistic, p_value, pooled_std, mean1, mean2)\n",
    "else:\n",
    "    \"Required columns ('charges', 'insuranceclaim') not found in the dataset.\"\n",
    "\n",
    "# Display the calculated results for clarity\n",
    "{\n",
    "    \"t_statistic\": t_statistic,\n",
    "    \"p_value\": p_value,\n",
    "    \"pooled_std\": pooled_std,\n",
    "    \"mean_insured\": mean1,\n",
    "    \"mean_uninsured\": mean2\n",
    "}"
   ]
  },
  {
   "cell_type": "code",
   "execution_count": null,
   "metadata": {},
   "outputs": [],
   "source": [
    "Results:\n",
    "\n",
    "T-Statistic: 11.89\n",
    "P-Value: 0.0 (effectively)\n",
    "Pooled Standard Deviation: $11,520.03\n",
    "Mean Charges (Insured): $16,423.93\n",
    "Mean Charges (Uninsured): $8,821.42\n",
    "\n",
    "\n",
    "Statistical Significance:\n",
    "The extremely small p-value (≈0.0) indicates that the difference in mean charges between insured and uninsured patients is \n",
    "highly significant.This provides strong evidence to reject the null hypothesis (𝐻0).\n",
    "\n",
    "Conclusion:\n",
    "There is a statistically significant difference in charges between insured and uninsured patients.\n",
    "On average, insured patients are charged significantly more ($16,423.93) compared to uninsured patients ($8,821.42).\n",
    "Assumption of Equal Variances:\n",
    "\n",
    "The analysis assumes that the variances in charges for insured and uninsured patients are approximately equal. \n",
    "\n"
   ]
  },
  {
   "cell_type": "code",
   "execution_count": null,
   "metadata": {},
   "outputs": [],
   "source": []
  },
  {
   "cell_type": "markdown",
   "metadata": {},
   "source": [
    "__Q5:__ Perform this hypothesis test both manually, using the above formulae, and then using the appropriate function from [scipy.stats](https://docs.scipy.org/doc/scipy/reference/stats.html#statistical-tests) (hint, you're looking for a function to perform a _t_-test on two independent samples). For the manual approach, calculate the value of the test statistic and then its probability (the p-value). Verify you get the same results from both."
   ]
  },
  {
   "cell_type": "markdown",
   "metadata": {},
   "source": [
    "__A:__ "
   ]
  },
  {
   "cell_type": "code",
   "execution_count": 60,
   "metadata": {},
   "outputs": [
    {
     "data": {
      "text/plain": [
       "{'manual_results': {'t_statistic_manual': 11.893299030876715,\n",
       "  'p_value_manual': 0.0},\n",
       " 'scipy_results': {'t_statistic_scipy': 11.893299030876712,\n",
       "  'p_value_scipy': 4.461230231620717e-31}}"
      ]
     },
     "execution_count": 60,
     "metadata": {},
     "output_type": "execute_result"
    }
   ],
   "source": [
    "# Manual calculation of t-statistic and p-value (already done above)\n",
    "manual_results = {\n",
    "    \"t_statistic_manual\": t_statistic,\n",
    "    \"p_value_manual\": p_value\n",
    "}\n",
    "\n",
    "# Using scipy.stats for independent two-sample t-test\n",
    "from scipy.stats import ttest_ind\n",
    "\n",
    "# Perform the t-test with equal variance assumption (default for ttest_ind)\n",
    "scipy_t_statistic, scipy_p_value = ttest_ind(insured, uninsured, equal_var=True)\n",
    "\n",
    "# Combine results for comparison\n",
    "{\n",
    "    \"manual_results\": manual_results,\n",
    "    \"scipy_results\": {\n",
    "        \"t_statistic_scipy\": scipy_t_statistic,\n",
    "        \"p_value_scipy\": scipy_p_value\n",
    "    }\n",
    "}\n"
   ]
  },
  {
   "cell_type": "code",
   "execution_count": null,
   "metadata": {},
   "outputs": [],
   "source": [
    "Results Comparison:\n",
    "Manual Calculation:\n",
    "\n",
    "T-Statistic: 11.89\n",
    "P-Value: 0.0\n",
    "Using scipy.stats.ttest_ind:\n",
    "\n",
    "T-Statistic: 11.89\n",
    "P-Value: 4.46×10 −31 (power -31)(effectively 0)\n",
    "\n",
    "Matching Results:\n",
    "Both the manual calculation and scipy.stats.ttest_ind yield the same t-statistic and p-value, \n",
    "confirming the correctness of the manual approach.\n",
    "\n",
    "Conclusion:\n",
    "The hypothesis test strongly rejects the null hypothesis, indicating a significant difference in mean charges \n",
    "between insured and uninsured patients.\n",
    "\n"
   ]
  },
  {
   "cell_type": "code",
   "execution_count": null,
   "metadata": {},
   "outputs": [],
   "source": []
  },
  {
   "cell_type": "code",
   "execution_count": null,
   "metadata": {},
   "outputs": [],
   "source": []
  },
  {
   "cell_type": "markdown",
   "metadata": {},
   "source": [
    "Congratulations! Hopefully you got the exact same numerical results. This shows that you correctly calculated the numbers by hand. Secondly, you used the correct function and saw that it's much easier to use. All you need to do is pass your data to it."
   ]
  },
  {
   "cell_type": "markdown",
   "metadata": {},
   "source": [
    "__Q6:__ Conceptual question: look through the documentation for statistical test functions in scipy.stats. You'll see the above _t_-test for a sample, but can you see an equivalent one for performing a *z*-test from a sample? Comment on your answer."
   ]
  },
  {
   "cell_type": "markdown",
   "metadata": {},
   "source": [
    "__A:__"
   ]
  },
  {
   "cell_type": "code",
   "execution_count": null,
   "metadata": {},
   "outputs": [],
   "source": [
    "\n",
    "\n",
    "In the scipy.stats library, there is no direct built-in function for a z-test equivalent to the ttest_ind function. \n",
    "This is because the t-test is much more commonly used in practice, especially for smaller sample sizes or \n",
    "when the population standard deviation is unknown.\n",
    "\n",
    "Why is a Z-Test Not Directly Included?\n",
    "\n",
    "Applicability of Z-Test:\n",
    "A z-test requires the population standard deviation (𝜎) to be known, which is rare in most real-world scenarios. \n",
    "Without this information, the t-test is used instead, as it relies on the sample standard deviation (s).\n",
    "\n",
    "Central Limit Theorem (CLT):\n",
    "For large sample sizes (𝑛>30), the t-distribution approximates the normal distribution, and \n",
    "the t-test can be used in place of the z-test without any meaningful difference.\n",
    "\n",
    "Focus on Flexibility:\n",
    "The t-test is versatile and works for both small and large sample sizes, making it more broadly applicable than the z-test.\n",
    "\n",
    "Conclusion:\n",
    "The absence of a dedicated z-test function in scipy.stats reflects its limited practical use compared to the t-test. However, \n",
    "a z-test can still be performed manually when the population standard deviation is known and the sample size is large.\n",
    "\n",
    "                                                                       "
   ]
  },
  {
   "cell_type": "code",
   "execution_count": null,
   "metadata": {},
   "outputs": [],
   "source": []
  },
  {
   "cell_type": "markdown",
   "metadata": {},
   "source": [
    "## Learning outcomes"
   ]
  },
  {
   "cell_type": "markdown",
   "metadata": {},
   "source": [
    "Having completed this project notebook, you now have good hands-on experience:\n",
    "* using the central limit theorem to help you apply frequentist techniques to answer questions that pertain to very non-normally distributed data from the real world\n",
    "* performing inference using such data to answer business questions\n",
    "* forming a hypothesis and framing the null and alternative hypotheses\n",
    "* testing this using a _t_-test"
   ]
  }
 ],
 "metadata": {
  "kernelspec": {
   "display_name": "Python 3 (ipykernel)",
   "language": "python",
   "name": "python3"
  },
  "language_info": {
   "codemirror_mode": {
    "name": "ipython",
    "version": 3
   },
   "file_extension": ".py",
   "mimetype": "text/x-python",
   "name": "python",
   "nbconvert_exporter": "python",
   "pygments_lexer": "ipython3",
   "version": "3.12.7"
  }
 },
 "nbformat": 4,
 "nbformat_minor": 4
}
